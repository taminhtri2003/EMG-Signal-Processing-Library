{
  "nbformat": 4,
  "nbformat_minor": 0,
  "metadata": {
    "colab": {
      "provenance": [],
      "toc_visible": true,
      "include_colab_link": true
    },
    "kernelspec": {
      "name": "python3",
      "display_name": "Python 3"
    }
  },
  "cells": [
    {
      "cell_type": "markdown",
      "metadata": {
        "id": "view-in-github",
        "colab_type": "text"
      },
      "source": [
        "<a href=\"https://colab.research.google.com/github/taminhtri2003/EMG-Signal-Processing-Library/blob/master/Lecture_05_2_Tutorial_DNN_with_CIFAR.ipynb\" target=\"_parent\"><img src=\"https://colab.research.google.com/assets/colab-badge.svg\" alt=\"Open In Colab\"/></a>"
      ]
    },
    {
      "cell_type": "markdown",
      "source": [
        "# Tutorial: Multiclass Classification with Scikit-learn and Tensorflow"
      ],
      "metadata": {
        "id": "5JwgzLrDAm1E"
      }
    },
    {
      "cell_type": "markdown",
      "source": [
        "## Tutorial 1: Multiclass-Classification with Scikit-learn in MNIST-Fashion"
      ],
      "metadata": {
        "id": "2WioYJFJA0w2"
      }
    },
    {
      "cell_type": "code",
      "metadata": {
        "id": "7FOBqNPqBF-s"
      },
      "source": [
        "import numpy as np\n",
        "from matplotlib import pyplot as plt\n",
        "import tensorflow as tf"
      ],
      "execution_count": null,
      "outputs": []
    },
    {
      "cell_type": "markdown",
      "source": [
        "### Data Preprocessing"
      ],
      "metadata": {
        "id": "6KEpunDQm79T"
      }
    },
    {
      "cell_type": "code",
      "source": [
        "# MNIST-Fashion\n",
        "\n",
        "(x_train, y_train), (x_test, y_test) = tf.keras.datasets.fashion_mnist.load_data()"
      ],
      "metadata": {
        "id": "izUywG1VBQGx",
        "colab": {
          "base_uri": "https://localhost:8080/"
        },
        "outputId": "d10d775d-5673-417c-8a0d-75079fd37c68"
      },
      "execution_count": null,
      "outputs": [
        {
          "output_type": "stream",
          "name": "stdout",
          "text": [
            "Downloading data from https://storage.googleapis.com/tensorflow/tf-keras-datasets/train-labels-idx1-ubyte.gz\n",
            "29515/29515 [==============================] - 0s 0us/step\n",
            "Downloading data from https://storage.googleapis.com/tensorflow/tf-keras-datasets/train-images-idx3-ubyte.gz\n",
            "26421880/26421880 [==============================] - 0s 0us/step\n",
            "Downloading data from https://storage.googleapis.com/tensorflow/tf-keras-datasets/t10k-labels-idx1-ubyte.gz\n",
            "5148/5148 [==============================] - 0s 0us/step\n",
            "Downloading data from https://storage.googleapis.com/tensorflow/tf-keras-datasets/t10k-images-idx3-ubyte.gz\n",
            "4422102/4422102 [==============================] - 0s 0us/step\n"
          ]
        }
      ]
    },
    {
      "cell_type": "code",
      "source": [
        "print('train:', x_train.shape, y_train.shape)\n",
        "print('test:', x_test.shape, y_test.shape)"
      ],
      "metadata": {
        "colab": {
          "base_uri": "https://localhost:8080/"
        },
        "id": "KSXY7Fu6jGEx",
        "outputId": "154ef6b7-3439-4090-9a7e-3061cbcfd9bc"
      },
      "execution_count": null,
      "outputs": [
        {
          "output_type": "stream",
          "name": "stdout",
          "text": [
            "train: (60000, 28, 28) (60000,)\n",
            "test: (10000, 28, 28) (10000,)\n"
          ]
        }
      ]
    },
    {
      "cell_type": "code",
      "source": [
        "# label/ ground truth\n",
        "\n",
        "print('y train:', y_train[:10])\n",
        "print('y test:', y_test[:10])"
      ],
      "metadata": {
        "colab": {
          "base_uri": "https://localhost:8080/"
        },
        "id": "oFxbMjD3jTJ2",
        "outputId": "0002d619-c75a-4cc4-8927-69eca8a637cb"
      },
      "execution_count": null,
      "outputs": [
        {
          "output_type": "stream",
          "name": "stdout",
          "text": [
            "y train: [9 0 0 3 0 2 7 2 5 5]\n",
            "y test: [9 2 1 1 6 1 4 6 5 7]\n"
          ]
        }
      ]
    },
    {
      "cell_type": "code",
      "source": [
        "plt.imshow(x_train[0, :, :])\n",
        "plt.show()\n",
        "\n",
        "import cv2\n",
        "cv2.imwrite('a.jpg', x_train[0])"
      ],
      "metadata": {
        "colab": {
          "base_uri": "https://localhost:8080/",
          "height": 447
        },
        "id": "-ykOIK87j1gF",
        "outputId": "aaecba56-1d16-436f-e9d7-d224e7879979"
      },
      "execution_count": null,
      "outputs": [
        {
          "output_type": "display_data",
          "data": {
            "text/plain": [
              "<Figure size 640x480 with 1 Axes>"
            ],
            "image/png": "[encoded data removed]"
          },
          "metadata": {}
        },
        {
          "output_type": "execute_result",
          "data": {
            "text/plain": [
              "True"
            ]
          },
          "metadata": {},
          "execution_count": 12
        }
      ]
    },
    {
      "cell_type": "code",
      "source": [
        "# chuyển ảnh 2 chiều thành vector 1 chiều\n",
        "x_train = np.reshape(x_train, [60000, 28*28]) # reshape(x, [-1, 28*28])\n",
        "x_test = np.reshape(x_test, [10000, 28*28])\n",
        "\n",
        "print('train', x_train.shape)\n",
        "print('test', x_test.shape)"
      ],
      "metadata": {
        "colab": {
          "base_uri": "https://localhost:8080/"
        },
        "id": "WDP9wIPklIbE",
        "outputId": "76411642-c743-4af2-e4a8-47c8c4bd127c"
      },
      "execution_count": null,
      "outputs": [
        {
          "output_type": "stream",
          "name": "stdout",
          "text": [
            "train (60000, 784)\n",
            "test (10000, 784)\n"
          ]
        }
      ]
    },
    {
      "cell_type": "markdown",
      "source": [
        "### Model Implementation"
      ],
      "metadata": {
        "id": "-VOKGGxmnD09"
      }
    },
    {
      "cell_type": "code",
      "source": [
        "! pip install scikit-learn"
      ],
      "metadata": {
        "id": "nKBXutcRnH0_"
      },
      "execution_count": null,
      "outputs": []
    },
    {
      "cell_type": "code",
      "source": [
        "# https://scikit-learn.org/stable/modules/generated/sklearn.linear_model.LogisticRegression.html"
      ],
      "metadata": {
        "id": "HAFQHuJNnRB_"
      },
      "execution_count": null,
      "outputs": []
    },
    {
      "cell_type": "code",
      "source": [
        "from sklearn.linear_model import LogisticRegression"
      ],
      "metadata": {
        "id": "_15aVCyZoHI8"
      },
      "execution_count": null,
      "outputs": []
    },
    {
      "cell_type": "code",
      "source": [
        "classifier = LogisticRegression(multi_class='multinomial')\n",
        "print(classifier)"
      ],
      "metadata": {
        "colab": {
          "base_uri": "https://localhost:8080/"
        },
        "id": "G39yCm6ooJxD",
        "outputId": "49d3fa92-f080-466f-8f5a-4b7a1b0aa414"
      },
      "execution_count": null,
      "outputs": [
        {
          "output_type": "stream",
          "name": "stdout",
          "text": [
            "LogisticRegression(multi_class='multinomial')\n"
          ]
        }
      ]
    },
    {
      "cell_type": "code",
      "source": [
        "classifier.fit(x_train, y_train)"
      ],
      "metadata": {
        "colab": {
          "base_uri": "https://localhost:8080/",
          "height": 233
        },
        "id": "OdOIVU3Loq4b",
        "outputId": "b4294e16-02a5-4b16-9b78-8f0f29130136"
      },
      "execution_count": null,
      "outputs": [
        {
          "output_type": "stream",
          "name": "stderr",
          "text": [
            "/usr/local/lib/python3.10/dist-packages/sklearn/linear_model/_logistic.py:458: ConvergenceWarning: lbfgs failed to converge (status=1):\n",
            "STOP: TOTAL NO. of ITERATIONS REACHED LIMIT.\n",
            "\n",
            "Increase the number of iterations (max_iter) or scale the data as shown in:\n",
            "    https://scikit-learn.org/stable/modules/preprocessing.html\n",
            "Please also refer to the documentation for alternative solver options:\n",
            "    https://scikit-learn.org/stable/modules/linear_model.html#logistic-regression\n",
            "  n_iter_i = _check_optimize_result(\n"
          ]
        },
        {
          "output_type": "execute_result",
          "data": {
            "text/plain": [
              "LogisticRegression(multi_class='multinomial')"
            ],
            "text/html": [
              "<style>#sk-container-id-1 {color: black;background-color: white;}#sk-container-id-1 pre{padding: 0;}#sk-container-id-1 div.sk-toggleable {background-color: white;}#sk-container-id-1 label.sk-toggleable__label {cursor: pointer;display: block;width: 100%;margin-bottom: 0;padding: 0.3em;box-sizing: border-box;text-align: center;}#sk-container-id-1 label.sk-toggleable__label-arrow:before {content: \"▸\";float: left;margin-right: 0.25em;color: #696969;}#sk-container-id-1 label.sk-toggleable__label-arrow:hover:before {color: black;}#sk-container-id-1 div.sk-estimator:hover label.sk-toggleable__label-arrow:before {color: black;}#sk-container-id-1 div.sk-toggleable__content {max-height: 0;max-width: 0;overflow: hidden;text-align: left;background-color: #f0f8ff;}#sk-container-id-1 div.sk-toggleable__content pre {margin: 0.2em;color: black;border-radius: 0.25em;background-color: #f0f8ff;}#sk-container-id-1 input.sk-toggleable__control:checked~div.sk-toggleable__content {max-height: 200px;max-width: 100%;overflow: auto;}#sk-container-id-1 input.sk-toggleable__control:checked~label.sk-toggleable__label-arrow:before {content: \"▾\";}#sk-container-id-1 div.sk-estimator input.sk-toggleable__control:checked~label.sk-toggleable__label {background-color: #d4ebff;}#sk-container-id-1 div.sk-label input.sk-toggleable__control:checked~label.sk-toggleable__label {background-color: #d4ebff;}#sk-container-id-1 input.sk-hidden--visually {border: 0;clip: rect(1px 1px 1px 1px);clip: rect(1px, 1px, 1px, 1px);height: 1px;margin: -1px;overflow: hidden;padding: 0;position: absolute;width: 1px;}#sk-container-id-1 div.sk-estimator {font-family: monospace;background-color: #f0f8ff;border: 1px dotted black;border-radius: 0.25em;box-sizing: border-box;margin-bottom: 0.5em;}#sk-container-id-1 div.sk-estimator:hover {background-color: #d4ebff;}#sk-container-id-1 div.sk-parallel-item::after {content: \"\";width: 100%;border-bottom: 1px solid gray;flex-grow: 1;}#sk-container-id-1 div.sk-label:hover label.sk-toggleable__label {background-color: #d4ebff;}#sk-container-id-1 div.sk-serial::before {content: \"\";position: absolute;border-left: 1px solid gray;box-sizing: border-box;top: 0;bottom: 0;left: 50%;z-index: 0;}#sk-container-id-1 div.sk-serial {display: flex;flex-direction: column;align-items: center;background-color: white;padding-right: 0.2em;padding-left: 0.2em;position: relative;}#sk-container-id-1 div.sk-item {position: relative;z-index: 1;}#sk-container-id-1 div.sk-parallel {display: flex;align-items: stretch;justify-content: center;background-color: white;position: relative;}#sk-container-id-1 div.sk-item::before, #sk-container-id-1 div.sk-parallel-item::before {content: \"\";position: absolute;border-left: 1px solid gray;box-sizing: border-box;top: 0;bottom: 0;left: 50%;z-index: -1;}#sk-container-id-1 div.sk-parallel-item {display: flex;flex-direction: column;z-index: 1;position: relative;background-color: white;}#sk-container-id-1 div.sk-parallel-item:first-child::after {align-self: flex-end;width: 50%;}#sk-container-id-1 div.sk-parallel-item:last-child::after {align-self: flex-start;width: 50%;}#sk-container-id-1 div.sk-parallel-item:only-child::after {width: 0;}#sk-container-id-1 div.sk-dashed-wrapped {border: 1px dashed gray;margin: 0 0.4em 0.5em 0.4em;box-sizing: border-box;padding-bottom: 0.4em;background-color: white;}#sk-container-id-1 div.sk-label label {font-family: monospace;font-weight: bold;display: inline-block;line-height: 1.2em;}#sk-container-id-1 div.sk-label-container {text-align: center;}#sk-container-id-1 div.sk-container {/* jupyter's `normalize.less` sets `[hidden] { display: none; }` but bootstrap.min.css set `[hidden] { display: none !important; }` so we also need the `!important` here to be able to override the default hidden behavior on the sphinx rendered scikit-learn.org. See: https://github.com/scikit-learn/scikit-learn/issues/21755 */display: inline-block !important;position: relative;}#sk-container-id-1 div.sk-text-repr-fallback {display: none;}</style><div id=\"sk-container-id-1\" class=\"sk-top-container\"><div class=\"sk-text-repr-fallback\"><pre>LogisticRegression(multi_class=&#x27;multinomial&#x27;)</pre><b>In a Jupyter environment, please rerun this cell to show the HTML representation or trust the notebook. <br />On GitHub, the HTML representation is unable to render, please try loading this page with nbviewer.org.</b></div><div class=\"sk-container\" hidden><div class=\"sk-item\"><div class=\"sk-estimator sk-toggleable\"><input class=\"sk-toggleable__control sk-hidden--visually\" id=\"sk-estimator-id-1\" type=\"checkbox\" checked><label for=\"sk-estimator-id-1\" class=\"sk-toggleable__label sk-toggleable__label-arrow\">LogisticRegression</label><div class=\"sk-toggleable__content\"><pre>LogisticRegression(multi_class=&#x27;multinomial&#x27;)</pre></div></div></div></div></div>"
            ]
          },
          "metadata": {},
          "execution_count": 19
        }
      ]
    },
    {
      "cell_type": "markdown",
      "source": [
        "### Model Evaluation"
      ],
      "metadata": {
        "id": "uKZ4CfBapGeG"
      }
    },
    {
      "cell_type": "code",
      "source": [
        "result = classifier.score(x_train, y_train)\n",
        "print(result)"
      ],
      "metadata": {
        "colab": {
          "base_uri": "https://localhost:8080/"
        },
        "id": "Bu0TOzjFom8e",
        "outputId": "56f41490-d031-4c0a-dacf-4b6de07dce10"
      },
      "execution_count": null,
      "outputs": [
        {
          "output_type": "stream",
          "name": "stdout",
          "text": [
            "0.8632\n"
          ]
        }
      ]
    },
    {
      "cell_type": "code",
      "source": [
        "result = classifier.score(x_test, y_test)\n",
        "print(result)"
      ],
      "metadata": {
        "colab": {
          "base_uri": "https://localhost:8080/"
        },
        "id": "heAEmnBvp2ax",
        "outputId": "d9267bbb-2c8a-4ef3-c859-f6adb7eb1670"
      },
      "execution_count": null,
      "outputs": [
        {
          "output_type": "stream",
          "name": "stdout",
          "text": [
            "0.8412\n"
          ]
        }
      ]
    },
    {
      "cell_type": "code",
      "source": [
        "predictions = classifier.predict(x_train[:10])\n",
        "print(predictions)\n",
        "print(y_train[:10])"
      ],
      "metadata": {
        "colab": {
          "base_uri": "https://localhost:8080/"
        },
        "id": "Pz1B4eeOqt9V",
        "outputId": "b7f5bef5-9295-41f8-c018-f9db13d3fca9"
      },
      "execution_count": null,
      "outputs": [
        {
          "output_type": "stream",
          "name": "stdout",
          "text": [
            "[9 0 0 3 3 2 7 2 5 5]\n",
            "[9 0 0 3 0 2 7 2 5 5]\n"
          ]
        }
      ]
    },
    {
      "cell_type": "code",
      "source": [
        "prediction = classifier.predict_proba([x_train[0]])\n",
        "print(prediction)\n",
        "print(np.argmax(prediction))"
      ],
      "metadata": {
        "colab": {
          "base_uri": "https://localhost:8080/"
        },
        "id": "I2pQ9p73rdsS",
        "outputId": "21d5ddc8-d0d3-4012-e51c-59bd8c90c80e"
      },
      "execution_count": null,
      "outputs": [
        {
          "output_type": "stream",
          "name": "stdout",
          "text": [
            "[[6.25162165e-10 4.88794962e-10 6.50713898e-10 5.53450313e-10\n",
            "  4.05326306e-10 3.01595373e-03 2.46681327e-07 4.79329261e-04\n",
            "  4.00943905e-06 9.96500458e-01]]\n",
            "9\n"
          ]
        }
      ]
    },
    {
      "cell_type": "code",
      "source": [
        "# https://scikit-learn.org/stable/modules/generated/sklearn.metrics.confusion_matrix.html\n",
        "from sklearn.metrics import confusion_matrix, ConfusionMatrixDisplay\n",
        "\n",
        "predictions = classifier.predict(x_train)\n",
        "cfm = confusion_matrix(y_train, predictions)"
      ],
      "metadata": {
        "id": "1OcsuCPPsFxS"
      },
      "execution_count": null,
      "outputs": []
    },
    {
      "cell_type": "code",
      "source": [
        "disp = ConfusionMatrixDisplay(cfm)\n",
        "disp.plot()"
      ],
      "metadata": {
        "colab": {
          "base_uri": "https://localhost:8080/",
          "height": 466
        },
        "id": "IeLxZfnPs0hi",
        "outputId": "e5ab69bc-4bab-4b57-b963-bfdfbc73717d"
      },
      "execution_count": null,
      "outputs": [
        {
          "output_type": "execute_result",
          "data": {
            "text/plain": [
              "<sklearn.metrics._plot.confusion_matrix.ConfusionMatrixDisplay at 0x7f5446c5ac50>"
            ]
          },
          "metadata": {},
          "execution_count": 34
        },
        {
          "output_type": "display_data",
          "data": {
            "text/plain": [
              "<Figure size 640x480 with 2 Axes>"
            ],
            "image/png": "[encoded data removed]"
          },
          "metadata": {}
        }
      ]
    },
    {
      "cell_type": "markdown",
      "source": [
        "### Deployment"
      ],
      "metadata": {
        "id": "Zt76VokntQq9"
      }
    },
    {
      "cell_type": "code",
      "source": [
        "import pickle\n",
        "\n",
        "pickle.dump(classifier, open('mnist-fashion-classifier.pk', 'wb'))"
      ],
      "metadata": {
        "id": "ShL4Sxh4thQm"
      },
      "execution_count": null,
      "outputs": []
    },
    {
      "cell_type": "code",
      "source": [
        "model = pickle.load(open('mnist-fashion-classifier.pk', 'rb'))"
      ],
      "metadata": {
        "id": "viG3eyvbvnX4"
      },
      "execution_count": null,
      "outputs": []
    },
    {
      "cell_type": "code",
      "source": [
        "print(model)"
      ],
      "metadata": {
        "colab": {
          "base_uri": "https://localhost:8080/"
        },
        "id": "C_7K4zGAvwLj",
        "outputId": "01aacb4f-e168-4de0-9652-82592cff8394"
      },
      "execution_count": null,
      "outputs": [
        {
          "output_type": "stream",
          "name": "stdout",
          "text": [
            "LogisticRegression(multi_class='multinomial')\n"
          ]
        }
      ]
    },
    {
      "cell_type": "code",
      "source": [
        "model.predict(x_test[:5])"
      ],
      "metadata": {
        "colab": {
          "base_uri": "https://localhost:8080/"
        },
        "id": "uqKJvIpBv3KK",
        "outputId": "5a85beb2-ee70-4163-d766-dfa1a9cb7a0e"
      },
      "execution_count": null,
      "outputs": [
        {
          "output_type": "execute_result",
          "data": {
            "text/plain": [
              "array([9, 2, 1, 1, 6], dtype=uint8)"
            ]
          },
          "metadata": {},
          "execution_count": 38
        }
      ]
    },
    {
      "cell_type": "markdown",
      "source": [
        "## Tutorial 2: Multiclass-classification with Scikit-learn in Facescrub"
      ],
      "metadata": {
        "id": "mafubVH4wrX5"
      }
    },
    {
      "cell_type": "code",
      "source": [
        "# https://drive.google.com/file/d/1PT8eowy5JnkwnqFBPyJ7UkfyT9ezN_xv/view?usp=drive_link"
      ],
      "metadata": {
        "id": "Wsny5v5t41gb"
      },
      "execution_count": null,
      "outputs": []
    },
    {
      "cell_type": "code",
      "source": [
        "! cp /content/drive/MyDrive/MMDS-data/FaceScrub-faces-mini.zip ."
      ],
      "metadata": {
        "id": "vSSQaabUwrJu"
      },
      "execution_count": null,
      "outputs": []
    },
    {
      "cell_type": "code",
      "source": [
        "! unzip -q FaceScrub-faces-mini.zip"
      ],
      "metadata": {
        "id": "Eyd3xsOiy_Py"
      },
      "execution_count": null,
      "outputs": []
    },
    {
      "cell_type": "code",
      "source": [
        "! rm -rf __MACOSX"
      ],
      "metadata": {
        "id": "H7O9ua7tzJPN"
      },
      "execution_count": null,
      "outputs": []
    },
    {
      "cell_type": "code",
      "source": [
        "import cv2\n",
        "import glob"
      ],
      "metadata": {
        "id": "RW-pZa3ZzJTl"
      },
      "execution_count": null,
      "outputs": []
    },
    {
      "cell_type": "code",
      "source": [
        "files = glob.glob('FaceScrub-faces-mini/*/*.jpg')\n",
        "print(len(files))\n",
        "for it in files[:5]:\n",
        "  print(it)"
      ],
      "metadata": {
        "colab": {
          "base_uri": "https://localhost:8080/"
        },
        "id": "TKZEGwU8zRd2",
        "outputId": "e60d9290-73dc-4f82-f16f-73372516af79"
      },
      "execution_count": null,
      "outputs": [
        {
          "output_type": "stream",
          "name": "stdout",
          "text": [
            "858\n",
            "FaceScrub-faces-mini/Dwayne_Johnson/Dwayne_Johnson_034216_018231.jpg\n",
            "FaceScrub-faces-mini/Dwayne_Johnson/Dwayne_Johnson_034091_018181.jpg\n",
            "FaceScrub-faces-mini/Brad_Pitt/Brad_Pitt_014126_008161.jpg\n",
            "FaceScrub-faces-mini/Brad_Pitt/Brad_Pitt_014198_008199.jpg\n",
            "FaceScrub-faces-mini/T.J._Thyne/T.J._Thyne_105996_053975.jpg\n"
          ]
        }
      ]
    },
    {
      "cell_type": "code",
      "source": [
        "import os\n",
        "\n",
        "folders = glob.glob('FaceScrub-faces-mini/*')\n",
        "folders = [os.path.basename(it) for it in folders]\n",
        "folders.sort()\n",
        "for it in folders[:5]:\n",
        "  print(it)\n",
        "\n",
        "dict_names = {name:indx for indx, name in enumerate(folders)}\n",
        "print(dict_names)"
      ],
      "metadata": {
        "colab": {
          "base_uri": "https://localhost:8080/"
        },
        "id": "yLySTIUdznrt",
        "outputId": "e7682c2d-09af-46c6-ea49-07c5dc0cca9b"
      },
      "execution_count": null,
      "outputs": [
        {
          "output_type": "stream",
          "name": "stdout",
          "text": [
            "Adam_McKay\n",
            "Adam_Sandler\n",
            "Adrien_Brody\n",
            "Adrienne_Barbeau\n",
            "Adrienne_Frantz\n",
            "{'Adam_McKay': 0, 'Adam_Sandler': 1, 'Adrien_Brody': 2, 'Adrienne_Barbeau': 3, 'Adrienne_Frantz': 4, 'Al_Pacino': 5, 'Alan_Alda': 6, 'Alan_Arkin': 7, 'Alan_Rickman': 8, 'Alec_Baldwin': 9, 'Alexander_Skarsgård': 10, 'Alfred_Molina': 11, 'Allison_Janney': 12, 'Alyson_Hannigan': 13, 'Amanda_Bearse': 14, 'Amaury_Nolasco': 15, 'America_Ferrera': 16, 'Amy_Davidson': 17, 'Andrea_Anders': 18, 'Andrea_Bogart': 19, 'Andrea_Bowen': 20, 'Andy_Garcia': 21, 'Andy_Richter': 22, 'Andy_Serkis': 23, 'Angell_Conwell': 24, 'Angie_Harmon': 25, 'Anthony_Hopkins': 26, 'Arnold_Vosloo': 27, 'Ashley_Benson': 28, 'Ashley_Johnson': 29, 'Ashley_Jones': 30, 'Ashton_Kutcher': 31, 'Barbara_Carrera': 32, 'Ben_Affleck': 33, 'Ben_Kingsley': 34, 'Ben_McKenzie': 35, 'Ben_Stiller': 36, 'Benicio_Del_Toro': 37, 'Bernard_Hill': 38, 'Bernie_Mac': 39, 'Bill_Cosby': 40, 'Bill_Hader': 41, 'Bill_Murray': 42, 'Bill_Nighy': 43, 'Billy_Bob_Thornton': 44, 'Billy_Zane': 45, 'Bobbie_Eakes': 46, 'Bonnie_Franklin': 47, 'Brad_Garrett': 48, 'Brad_Pitt': 49, 'Bradley_Cooper': 50, 'Brendan_Fraser': 51, 'Brianna_Brown': 52, 'Bruce_Greenwood': 53, 'Bruce_Willis': 54, 'Burt_Reynolds': 55, 'Calista_Flockhart': 56, 'Cam_Gigandet': 57, 'Candace_Cameron_Bure': 58, 'Candice_Bergen': 59, 'Carla_Gallo': 60, 'Carmen_Electra': 61, 'Caroline_Dhavernas': 62, 'Carolyn_Hennesy': 63, 'Cary_Elwes': 64, 'Casey_Affleck': 65, 'Catherine_Bell': 66, 'Cathy_Lee_Crosby': 67, 'Channing_Tatum': 68, 'Charlie_Day': 69, 'Charlie_Sheen': 70, 'Chazz_Palminteri': 71, 'Christel_Khalil': 72, 'Christina_Applegate': 73, 'Ciara_Bravo': 74, 'Colin_Farrell': 75, 'Colin_Firth': 76, 'Colin_Hanks': 77, 'Courteney_Cox': 78, 'Crystal_Bernard': 79, 'Crystal_Chappell': 80, 'Dan_Lauria': 81, 'Dana_Delany': 82, 'Daniel_Craig': 83, 'Daniel_Day-Lewis': 84, 'Daniel_Radcliffe': 85, 'Danny_Glover': 86, 'Danny_Masterson': 87, 'Danny_Trejo': 88, 'David_Boreanaz': 89, 'David_Cross': 90, 'David_Duchovny': 91, 'David_Schwimmer': 92, 'David_Wenham': 93, 'Dean_Cain': 94, 'Delta_Burke': 95, 'Denise_Crosby': 96, 'Denzel_Washington': 97, 'Dermot_Mulroney': 98, 'Desmond_Harrington': 99, 'Diahann_Carroll': 100, 'Dianna_Agron': 101, 'Diego_Luna': 102, 'Dominic_Monaghan': 103, 'Don_Cheadle': 104, 'Drea_de_Matteo': 105, 'Dustin_Hoffman': 106, 'Dwayne_Johnson': 107, 'Ed_Harris': 108, 'Edi_Gathegi': 109, 'Edie_Falco': 110, 'Eileen_Davidson': 111, 'Elijah_Wood': 112, 'Eliza_Coupe': 113, 'Eliza_Dushku': 114, 'Elizabeth_Berkley': 115, 'Elizabeth_Hendrickson': 116, 'Ellen_DeGeneres': 117, 'Ellen_Greene': 118, 'Emile_Hirsch': 119, 'Emily_Deschanel': 120, 'Eric_Dane': 121, 'Erin_Chambers': 122, 'Erin_Cummings': 123, 'Ethan_Hawke': 124, 'Ewan_McGregor': 125, 'Faith_Ford': 126, 'Farah_Fath': 127, 'Farrah_Fawcett': 128, 'Fran_Drescher': 129, 'Frances_Fisher': 130, 'Freddy_Prinze_Jr.': 131, 'Freddy_Rodríguez': 132, 'Gabriel_Macht': 133, 'Gabrielle_Carteris': 134, 'Gary_Dourdan': 135, 'Gary_Oldman': 136, 'Geena_Davis': 137, 'Gene_Hackman': 138, 'Geoffrey_Rush': 139, 'George_Clooney': 140, 'George_Lopez': 141, 'Gerard_Butler': 142, 'Gillian_Anderson': 143, 'Giovanni_Ribisi': 144, 'Glenn_Close': 145, 'Hal_Holbrook': 146, 'Hank_Azaria': 147, 'Harrison_Ford': 148, 'Harry_Connick_Jr.': 149, 'Hayden_Christensen': 150, 'Heath_Ledger': 151, 'Hector_Elizondo': 152, 'Hugh_Grant': 153, 'Hugh_Jackman': 154, 'Hugo_Weaving': 155, 'Ian_Holm': 156, 'Ian_McKellen': 157, 'Ioan_Gruffudd': 158, 'J.K._Simmons': 159, 'Jack_Nicholson': 160, 'Jackie_Chan': 161, 'Jackson_Rathbone': 162, 'Jaden_Smith': 163, 'Jake_Gyllenhaal': 164, 'Jake_Weber': 165, 'James_Brolin': 166, 'James_Frain': 167, 'James_Franco': 168, 'James_Marsden': 169, 'James_McAvoy': 170, 'James_Remar': 171, 'Jamie_Foxx': 172, 'Jamie_Lee_Curtis': 173, 'Jane_Curtin': 174, 'January_Jones': 175, 'Jared_Padalecki': 176, 'Jasmine_Guy': 177, 'Jason_Bateman': 178, 'Jason_Behr': 179, 'Jason_Biggs': 180, 'Jason_Lee': 181, 'Jason_Statham': 182, 'Jason_Sudeikis': 183, 'Jay_Baruchel': 184, 'Jean-Claude_Van_Damme': 185, 'Jean_Reno': 186, 'Jeanne_Cooper': 187, 'Jeffrey_Tambor': 188, 'Jennie_Garth': 189, 'Jennifer_Aniston': 190, 'Jennifer_Gareis': 191, 'Jensen_Ackles': 192, 'Jeremy_Irons': 193, 'Jeremy_Sisto': 194, 'Jerry_Seinfeld': 195, 'Jesse_Eisenberg': 196, 'Jessica_Biel': 197, 'Jessica_Capshaw': 198, 'Jet_Li': 199, 'Jill_Eikenberry': 200, 'Jill_Hennessy': 201, 'Jim_Beaver': 202, 'Jim_Carrey': 203, 'Jim_Caviezel': 204, 'Jimmy_Fallon': 205, 'Joan_Collins': 206, 'Joanna_García': 207, 'Joanna_Kerns': 208, 'Joaquin_Phoenix': 209, 'Joe_Manganiello': 210, 'Joe_Pantoliano': 211, 'John_Cleese': 212, 'John_Cusack': 213, 'John_Krasinski': 214, 'John_Malkovich': 215, 'John_Noble': 216, 'John_Travolta': 217, 'Johnny_Depp': 218, 'Jolene_Blalock': 219, 'Jon_Hamm': 220, 'Jon_Voight': 221, 'Jonah_Hill': 222, 'Jonathan_Rhys_Meyers': 223, 'Jonathan_Sadowski': 224, 'Josh_Brolin': 225, 'Josh_Duhamel': 226, 'Josh_Hartnett': 227, 'Joshua_Jackson': 228, 'Josie_Bissett': 229, 'Joyce_DeWitt': 230, 'Jude_Law': 231, 'Judi_Evans': 232, 'Julie_Benz': 233, 'Julie_Bowen': 234, 'Julie_Marie_Berman': 235, 'Justin_Long': 236, 'Justin_Timberlake': 237, 'Justine_Bateman': 238, 'Kal_Penn': 239, 'Kaley_Cuoco': 240, 'Karl_Urban': 241, 'Kassie_DePaiva': 242, 'Katherine_Helmond': 243, 'Kathryn_Joosten': 244, 'Kathy_Baker': 245, 'Kathy_Griffin': 246, 'Katrina_Bowden': 247, 'Keanu_Reeves': 248, 'Kellan_Lutz': 249, 'Ken_Watanabe': 250, 'Kerr_Smith': 251, 'Kevin_Bacon': 252, 'Kevin_Connolly': 253, 'Kevin_Costner': 254, 'Kevin_McKidd': 255, 'Kiefer_Sutherland': 256, 'Kim_Cattrall': 257, 'Kim_Delaney': 258, 'Kim_Fields': 259, 'Kimberlin_Brown': 260, 'Kirstie_Alley': 261, 'Kit_Harington': 262, 'Kris_Kristofferson': 263, 'Kristen_Alderson': 264, 'Kristen_Johnston': 265, 'Kristian_Alfonso': 266, 'Kristin_Chenoweth': 267, 'Kristin_Davis': 268, 'Lacey_Chabert': 269, 'Lara_Flynn_Boyle': 270, 'Lauralee_Bell': 271, 'Laurence_Fishburne': 272, 'Leonardo_DiCaprio': 273, 'Lesley-Anne_Down': 274, 'Leslie_Neilsen': 275, 'Lexi_Ainsworth': 276, 'Liev_Schreiber': 277, 'Linda_Evans': 278, 'Linda_Gray': 279, 'Lisa_Bonet': 280, 'Loni_Anderson': 281, 'Lorraine_Bracco': 282, 'Lourdes_Benedicto': 283, 'Luke_Wilson': 284, 'Mackenzie_Aladjem': 285, 'Marcia_Cross': 286, 'Marg_Helgenberger': 287, 'Margaret_Cho': 288, 'Mariel_Hemingway': 289, 'Marilu_Henner': 290, 'Mark_Ruffalo': 291, 'Mark_Wahlberg': 292, 'Martin_Henderson': 293, 'Martin_Lawrence': 294, 'Martin_Sheen': 295, 'Mary_Beth_Evans': 296, 'Mary_Crosby': 297, 'Matt_Czuchry': 298, 'Matt_Damon': 299, 'Matt_Dillon': 300, 'Matt_LeBlanc': 301, 'Matt_Long': 302, 'Matthew_Broderick': 303, 'Matthew_Gray_Gubler': 304, 'Matthew_Lillard': 305, 'Matthew_McConaughey': 306, 'Matthew_Perry': 307, 'Mayim_Bialik': 308, 'Mel_Gibson': 309, 'Melina_Kanakaredes': 310, 'Melissa_Archer': 311, 'Melissa_Benoist': 312, 'Melissa_Claire_Egan': 313, 'Melissa_Fumero': 314, 'Melissa_Gilbert': 315, 'Michael_Douglas': 316, 'Michael_Landes': 317, 'Michael_Vartan': 318, 'Michael_Weatherly': 319, 'Mike_Myers': 320, 'Milo_Ventimiglia': 321, 'Miranda_Cosgrove': 322, 'Misha_Collins': 323, 'Molly_Burnett': 324, 'Morena_Baccarin': 325, 'Nadia_Bjorlin': 326, 'Nancy_Lee_Grahn': 327, 'Natalie_Hall': 328, 'Neal_McDonough': 329, 'Neve_Campbell': 330, 'Nick_Frost': 331, 'Nicolas_Cage': 332, 'Nicole_Eggert': 333, 'Nicole_de_Boer': 334, 'Norman_Reedus': 335, 'Oliver_Platt': 336, \"Olivia_d'Abo\": 337, 'Omid_Djalili': 338, 'Orlando_Bloom': 339, 'Owen_Wilson': 340, 'Pamela_Anderson': 341, 'Patricia_Arquette': 342, 'Patricia_Kalember': 343, 'Patrick_Dempsey': 344, 'Patrick_Swayze': 345, 'Patrick_Warburton': 346, 'Paul_Bettany': 347, 'Paul_Walker': 348, 'Peri_Gilpin': 349, 'Peter_Sarsgaard': 350, 'Philip_Seymour_Hoffman': 351, 'Pierce_Brosnan': 352, 'Portia_Doubleday': 353, 'Portia_de_Rossi': 354, 'Rachel_Dratch': 355, 'Rachel_Griffiths': 356, 'Ray_Stevenson': 357, 'Rebecca_Budig': 358, 'Richard_E._Grant': 359, 'Richard_Gere': 360, 'Richard_Madden': 361, 'Richard_Schiff': 362, 'Rob_Schneider': 363, 'Robert_Di_Niro': 364, 'Robert_Downey_Jr.': 365, 'Robert_Duvall': 366, 'Robert_Knepper': 367, 'Robert_Patrick': 368, 'Robert_Pattinson': 369, 'Robert_Redford': 370, 'Robin_Williams': 371, 'Roma_Downey': 372, 'Roseanne_Barr': 373, 'Rupert_Friend': 374, 'Rupert_Grint': 375, 'Russell_Crowe': 376, 'Ryan_Gosling': 377, 'Ryan_Phillippe': 378, 'Ryan_Reynolds': 379, 'Sally_Field': 380, 'Sam_Rockwell': 381, 'Samuel_L._Jackson': 382, 'Sara_Gilbert': 383, 'Sarah_Chalke': 384, 'Sarah_Drew': 385, 'Sarah_Michelle_Gellar': 386, 'Sasha_Alexander': 387, 'Scott_Patterson': 388, 'Sean_Bean': 389, 'Seth_Rogen': 390, 'Shannen_Doherty': 391, 'Shannon_Kane': 392, 'Sharon_Case': 393, 'Shelley_Hack': 394, 'Shelley_Hennig': 395, 'Sherilyn_Fenn': 396, 'Shia_LaBeouf': 397, 'Shirley_Jones': 398, 'Simon_Pegg': 399, 'Staci_Keanan': 400, 'Stana_Katic': 401, 'Steve_Carell': 402, 'Susan_Dey': 403, 'Susan_Flannery': 404, 'T.J._Thyne': 405, 'Tamala_Jones': 406, 'Tamara_Braun': 407, 'Tatyana_M._Ali': 408, 'Taylor_Atelian': 409, 'Taylor_Lautner': 410, 'Tempestt_Bledsoe': 411, 'Terry_Farrell': 412, 'Tia_Carrere': 413, 'Tina_Fey': 414, 'Tobey_Maguire': 415, 'Tom_Hanks': 416, 'Tracey_E._Bregman': 417, 'Tyne_Daly': 418, 'Valerie_Bertinelli': 419, 'Valerie_Cruz': 420, 'Valerie_Harper': 421, 'Veronica_Hamel': 422, 'Victor_Garber': 423, 'Victoria_Justice': 424, 'Wanda_De_Jesus': 425, 'Woody_Allen': 426, 'Yasmine_Bleeth': 427, 'Zooey_Deschanel': 428}\n"
          ]
        }
      ]
    },
    {
      "cell_type": "code",
      "source": [
        "import cv2\n",
        "\n",
        "def load_data(filename, dict_names):\n",
        "  img = cv2.imread(filename)\n",
        "  img = cv2.resize(img, (64, 64))\n",
        "  img = np.reshape(img, [-1])\n",
        "  parent = os.path.dirname(filename)\n",
        "  name = os.path.basename(parent)\n",
        "  label = dict_names[name]\n",
        "  return img, label\n",
        "\n",
        "img, label = load_data(files[0], dict_names)"
      ],
      "metadata": {
        "id": "zvZTKhGv0XHu"
      },
      "execution_count": null,
      "outputs": []
    },
    {
      "cell_type": "code",
      "source": [
        "print(img.shape, label)"
      ],
      "metadata": {
        "colab": {
          "base_uri": "https://localhost:8080/"
        },
        "id": "6J-rnm2A1E-T",
        "outputId": "b813bbdb-b3f1-4d8a-f02d-bf46008f0356"
      },
      "execution_count": null,
      "outputs": [
        {
          "output_type": "stream",
          "name": "stdout",
          "text": [
            "(12288,) 107\n"
          ]
        }
      ]
    },
    {
      "cell_type": "code",
      "source": [
        "data = []\n",
        "labels = []\n",
        "for it in files:\n",
        "  img, label = load_data(it, dict_names)\n",
        "  data.append(img)\n",
        "  labels.append(label)\n",
        "\n",
        "data = np.array(data)\n",
        "labels = np.array(labels)\n",
        "print(data.shape, labels.shape)"
      ],
      "metadata": {
        "colab": {
          "base_uri": "https://localhost:8080/"
        },
        "id": "JPaR7nDb1Vf_",
        "outputId": "b1f4145d-4abe-4d81-d738-2128fa39b0be"
      },
      "execution_count": null,
      "outputs": [
        {
          "output_type": "stream",
          "name": "stdout",
          "text": [
            "(858, 12288) (858,)\n"
          ]
        }
      ]
    },
    {
      "cell_type": "code",
      "source": [
        "# https://scikit-learn.org/stable/modules/generated/sklearn.model_selection.train_test_split.html\n",
        "from sklearn.model_selection import train_test_split\n",
        "\n",
        "x_train, x_test, y_train, y_test = train_test_split(data, labels, test_size=0.3)\n",
        "print('train:', x_train.shape, y_train.shape)\n",
        "print('test:', x_test.shape, y_test.shape)"
      ],
      "metadata": {
        "colab": {
          "base_uri": "https://localhost:8080/"
        },
        "id": "uzy41Gfk1z-U",
        "outputId": "e65b642f-e509-4e56-c420-2f8ae8f23d13"
      },
      "execution_count": null,
      "outputs": [
        {
          "output_type": "stream",
          "name": "stdout",
          "text": [
            "train: (600, 12288) (600,)\n",
            "test: (258, 12288) (258,)\n"
          ]
        }
      ]
    },
    {
      "cell_type": "code",
      "source": [
        "classifier = LogisticRegression(multi_class='multinomial')\n",
        "classifier.fit(x_train, y_train)"
      ],
      "metadata": {
        "colab": {
          "base_uri": "https://localhost:8080/",
          "height": 233
        },
        "id": "9bbRzMMY2QzW",
        "outputId": "6ffaafbf-6070-4fc0-a419-201ccbc124ac"
      },
      "execution_count": null,
      "outputs": [
        {
          "output_type": "stream",
          "name": "stderr",
          "text": [
            "/usr/local/lib/python3.10/dist-packages/sklearn/linear_model/_logistic.py:458: ConvergenceWarning: lbfgs failed to converge (status=1):\n",
            "STOP: TOTAL NO. of ITERATIONS REACHED LIMIT.\n",
            "\n",
            "Increase the number of iterations (max_iter) or scale the data as shown in:\n",
            "    https://scikit-learn.org/stable/modules/preprocessing.html\n",
            "Please also refer to the documentation for alternative solver options:\n",
            "    https://scikit-learn.org/stable/modules/linear_model.html#logistic-regression\n",
            "  n_iter_i = _check_optimize_result(\n"
          ]
        },
        {
          "output_type": "execute_result",
          "data": {
            "text/plain": [
              "LogisticRegression(multi_class='multinomial')"
            ],
            "text/html": [
              "<style>#sk-container-id-2 {color: black;background-color: white;}#sk-container-id-2 pre{padding: 0;}#sk-container-id-2 div.sk-toggleable {background-color: white;}#sk-container-id-2 label.sk-toggleable__label {cursor: pointer;display: block;width: 100%;margin-bottom: 0;padding: 0.3em;box-sizing: border-box;text-align: center;}#sk-container-id-2 label.sk-toggleable__label-arrow:before {content: \"▸\";float: left;margin-right: 0.25em;color: #696969;}#sk-container-id-2 label.sk-toggleable__label-arrow:hover:before {color: black;}#sk-container-id-2 div.sk-estimator:hover label.sk-toggleable__label-arrow:before {color: black;}#sk-container-id-2 div.sk-toggleable__content {max-height: 0;max-width: 0;overflow: hidden;text-align: left;background-color: #f0f8ff;}#sk-container-id-2 div.sk-toggleable__content pre {margin: 0.2em;color: black;border-radius: 0.25em;background-color: #f0f8ff;}#sk-container-id-2 input.sk-toggleable__control:checked~div.sk-toggleable__content {max-height: 200px;max-width: 100%;overflow: auto;}#sk-container-id-2 input.sk-toggleable__control:checked~label.sk-toggleable__label-arrow:before {content: \"▾\";}#sk-container-id-2 div.sk-estimator input.sk-toggleable__control:checked~label.sk-toggleable__label {background-color: #d4ebff;}#sk-container-id-2 div.sk-label input.sk-toggleable__control:checked~label.sk-toggleable__label {background-color: #d4ebff;}#sk-container-id-2 input.sk-hidden--visually {border: 0;clip: rect(1px 1px 1px 1px);clip: rect(1px, 1px, 1px, 1px);height: 1px;margin: -1px;overflow: hidden;padding: 0;position: absolute;width: 1px;}#sk-container-id-2 div.sk-estimator {font-family: monospace;background-color: #f0f8ff;border: 1px dotted black;border-radius: 0.25em;box-sizing: border-box;margin-bottom: 0.5em;}#sk-container-id-2 div.sk-estimator:hover {background-color: #d4ebff;}#sk-container-id-2 div.sk-parallel-item::after {content: \"\";width: 100%;border-bottom: 1px solid gray;flex-grow: 1;}#sk-container-id-2 div.sk-label:hover label.sk-toggleable__label {background-color: #d4ebff;}#sk-container-id-2 div.sk-serial::before {content: \"\";position: absolute;border-left: 1px solid gray;box-sizing: border-box;top: 0;bottom: 0;left: 50%;z-index: 0;}#sk-container-id-2 div.sk-serial {display: flex;flex-direction: column;align-items: center;background-color: white;padding-right: 0.2em;padding-left: 0.2em;position: relative;}#sk-container-id-2 div.sk-item {position: relative;z-index: 1;}#sk-container-id-2 div.sk-parallel {display: flex;align-items: stretch;justify-content: center;background-color: white;position: relative;}#sk-container-id-2 div.sk-item::before, #sk-container-id-2 div.sk-parallel-item::before {content: \"\";position: absolute;border-left: 1px solid gray;box-sizing: border-box;top: 0;bottom: 0;left: 50%;z-index: -1;}#sk-container-id-2 div.sk-parallel-item {display: flex;flex-direction: column;z-index: 1;position: relative;background-color: white;}#sk-container-id-2 div.sk-parallel-item:first-child::after {align-self: flex-end;width: 50%;}#sk-container-id-2 div.sk-parallel-item:last-child::after {align-self: flex-start;width: 50%;}#sk-container-id-2 div.sk-parallel-item:only-child::after {width: 0;}#sk-container-id-2 div.sk-dashed-wrapped {border: 1px dashed gray;margin: 0 0.4em 0.5em 0.4em;box-sizing: border-box;padding-bottom: 0.4em;background-color: white;}#sk-container-id-2 div.sk-label label {font-family: monospace;font-weight: bold;display: inline-block;line-height: 1.2em;}#sk-container-id-2 div.sk-label-container {text-align: center;}#sk-container-id-2 div.sk-container {/* jupyter's `normalize.less` sets `[hidden] { display: none; }` but bootstrap.min.css set `[hidden] { display: none !important; }` so we also need the `!important` here to be able to override the default hidden behavior on the sphinx rendered scikit-learn.org. See: https://github.com/scikit-learn/scikit-learn/issues/21755 */display: inline-block !important;position: relative;}#sk-container-id-2 div.sk-text-repr-fallback {display: none;}</style><div id=\"sk-container-id-2\" class=\"sk-top-container\"><div class=\"sk-text-repr-fallback\"><pre>LogisticRegression(multi_class=&#x27;multinomial&#x27;)</pre><b>In a Jupyter environment, please rerun this cell to show the HTML representation or trust the notebook. <br />On GitHub, the HTML representation is unable to render, please try loading this page with nbviewer.org.</b></div><div class=\"sk-container\" hidden><div class=\"sk-item\"><div class=\"sk-estimator sk-toggleable\"><input class=\"sk-toggleable__control sk-hidden--visually\" id=\"sk-estimator-id-2\" type=\"checkbox\" checked><label for=\"sk-estimator-id-2\" class=\"sk-toggleable__label sk-toggleable__label-arrow\">LogisticRegression</label><div class=\"sk-toggleable__content\"><pre>LogisticRegression(multi_class=&#x27;multinomial&#x27;)</pre></div></div></div></div></div>"
            ]
          },
          "metadata": {},
          "execution_count": 63
        }
      ]
    },
    {
      "cell_type": "code",
      "source": [
        "print('train:', classifier.score(x_train, y_train))\n",
        "print('test:', classifier.score(x_test, y_test))"
      ],
      "metadata": {
        "colab": {
          "base_uri": "https://localhost:8080/"
        },
        "id": "iN8utprg2Uv7",
        "outputId": "28abfcc8-5b20-4708-b751-bc102084643d"
      },
      "execution_count": null,
      "outputs": [
        {
          "output_type": "stream",
          "name": "stdout",
          "text": [
            "train: 1.0\n",
            "test: 0.011627906976744186\n"
          ]
        }
      ]
    },
    {
      "cell_type": "code",
      "source": [
        "test_img = cv2.imread('test.jpg')\n",
        "print(test_img.shape)\n",
        "\n",
        "test_img = cv2.resize(test_img, (64, 64))\n",
        "test_img = np.reshape(test_img, [-1])\n",
        "prediction = classifier.predict([test_img])[0]\n",
        "print(prediction)"
      ],
      "metadata": {
        "colab": {
          "base_uri": "https://localhost:8080/"
        },
        "id": "TQA0TfW72rQQ",
        "outputId": "a9391d14-5e93-4d04-f6cd-cd50f15671f4"
      },
      "execution_count": null,
      "outputs": [
        {
          "output_type": "stream",
          "name": "stdout",
          "text": [
            "(600, 600, 3)\n",
            "263\n"
          ]
        }
      ]
    },
    {
      "cell_type": "markdown",
      "source": [
        "## Tutorial 3: Multiclass-Classification with Tensorflow in CIFAR-10"
      ],
      "metadata": {
        "id": "qEe2i_96A-WN"
      }
    },
    {
      "cell_type": "code",
      "metadata": {
        "id": "Jp3SOeeNV4Z1",
        "outputId": "fb96b848-5799-42ec-f17f-acc2ad60891b",
        "colab": {
          "base_uri": "https://localhost:8080/",
          "height": 34
        }
      },
      "source": [
        "import tensorflow as tf\n",
        "import numpy as np\n",
        "from matplotlib import pyplot as plt\n",
        "print(tf.__version__)"
      ],
      "execution_count": null,
      "outputs": [
        {
          "output_type": "stream",
          "text": [
            "2.3.0\n"
          ],
          "name": "stdout"
        }
      ]
    },
    {
      "cell_type": "code",
      "metadata": {
        "id": "m0WTvJ6QaoIa",
        "outputId": "d2f6ae16-651c-4afb-e241-47059a9699a9",
        "colab": {
          "base_uri": "https://localhost:8080/",
          "height": 721
        }
      },
      "source": [
        "# load CIFAR data set\n",
        "(x_train, y_train), (x_test, y_test) = tf.keras.datasets.cifar10.load_data()\n",
        "print('train:', x_train.shape, y_train.shape)\n",
        "print('test:', x_test.shape, y_test.shape)\n",
        "print('y train:', y_train[:10])\n",
        "print('y test:', y_test[:10])\n",
        "\n",
        "plt.imshow(x_train[0, :, :])"
      ],
      "execution_count": null,
      "outputs": [
        {
          "output_type": "stream",
          "text": [
            "Downloading data from https://www.cs.toronto.edu/~kriz/cifar-10-python.tar.gz\n",
            "170500096/170498071 [==============================] - 2s 0us/step\n",
            "train: (50000, 32, 32, 3) (50000, 1)\n",
            "test: (10000, 32, 32, 3) (10000, 1)\n",
            "y train: [[6]\n",
            " [9]\n",
            " [9]\n",
            " [4]\n",
            " [1]\n",
            " [1]\n",
            " [2]\n",
            " [7]\n",
            " [8]\n",
            " [3]]\n",
            "y test: [[3]\n",
            " [8]\n",
            " [8]\n",
            " [0]\n",
            " [6]\n",
            " [6]\n",
            " [1]\n",
            " [6]\n",
            " [3]\n",
            " [1]]\n"
          ],
          "name": "stdout"
        },
        {
          "output_type": "execute_result",
          "data": {
            "text/plain": [
              "<matplotlib.image.AxesImage at 0x7f5dcf94d748>"
            ]
          },
          "metadata": {
            "tags": []
          },
          "execution_count": 2
        },
        {
          "output_type": "display_data",
          "data": {
            "image/png": "[encoded data removed]",
            "text/plain": [
              "<Figure size 432x288 with 1 Axes>"
            ]
          },
          "metadata": {
            "tags": [],
            "needs_background": "light"
          }
        }
      ]
    },
    {
      "cell_type": "code",
      "metadata": {
        "id": "S8_3pGOfXRr9",
        "outputId": "89776dc2-41ed-4368-a189-d4eb3a6d2bb2",
        "colab": {
          "base_uri": "https://localhost:8080/",
          "height": 199
        }
      },
      "source": [
        "def list_to_onehot(x, num_class=10):\n",
        "  onehot = np.zeros([x.shape[0], num_class], dtype=np.float64)\n",
        "  onehot[np.arange(x.shape[0]), x[:, 0].astype(int)] = 1.0\n",
        "  return onehot\n",
        "\n",
        "def split_train_val(x, y, rate_train=0.7):\n",
        "  indices = np.arange(x.shape[0])\n",
        "  np.random.shuffle(indices)\n",
        "  i = int(x.shape[0]*rate_train)\n",
        "  return (x[indices[:i]], y[indices[:i]]), (x[indices[i:]], y[indices[i:]])\n",
        "\n",
        "preprocess_samples = lambda x : x / 255.\n",
        "\n",
        "(x_train, y_train), (x_val, y_val) =  split_train_val(x_train, y_train)\n",
        "x_train = preprocess_samples(x_train)\n",
        "x_val = preprocess_samples(x_val)\n",
        "x_test = preprocess_samples(x_test)\n",
        "\n",
        "y_train = list_to_onehot(y_train)\n",
        "y_val = list_to_onehot(y_val)\n",
        "y_test = list_to_onehot(y_test)\n",
        "for it in y_train[:10]:\n",
        "  print(it)"
      ],
      "execution_count": null,
      "outputs": [
        {
          "output_type": "stream",
          "text": [
            "[0. 0. 0. 0. 1. 0. 0. 0. 0. 0.]\n",
            "[1. 0. 0. 0. 0. 0. 0. 0. 0. 0.]\n",
            "[0. 0. 0. 0. 1. 0. 0. 0. 0. 0.]\n",
            "[0. 0. 0. 0. 0. 0. 0. 1. 0. 0.]\n",
            "[0. 0. 0. 0. 0. 0. 0. 0. 1. 0.]\n",
            "[0. 0. 0. 0. 0. 1. 0. 0. 0. 0.]\n",
            "[0. 0. 1. 0. 0. 0. 0. 0. 0. 0.]\n",
            "[0. 1. 0. 0. 0. 0. 0. 0. 0. 0.]\n",
            "[0. 0. 1. 0. 0. 0. 0. 0. 0. 0.]\n",
            "[0. 0. 1. 0. 0. 0. 0. 0. 0. 0.]\n"
          ],
          "name": "stdout"
        }
      ]
    },
    {
      "cell_type": "code",
      "metadata": {
        "id": "jpCwrf73bM2b",
        "outputId": "dfb6a852-4521-4a0a-a468-d6c36ad052df",
        "colab": {
          "base_uri": "https://localhost:8080/",
          "height": 345
        }
      },
      "source": [
        "# create a simple DNN model\n",
        "model = tf.keras.models.Sequential(name='simple_dnn')\n",
        "model.add(tf.keras.layers.Flatten(input_shape=(32, 32, 3)))\n",
        "model.add(tf.keras.layers.Dense(256, activation='sigmoid'))\n",
        "model.add(tf.keras.layers.Dropout(0.5))\n",
        "model.add(tf.keras.layers.Dense(10, activation='sigmoid'))\n",
        "model.add(tf.keras.layers.Softmax())\n",
        "model.summary()\n",
        "\n",
        "model.compile(loss=tf.keras.losses.CategoricalCrossentropy,\n",
        "              optimizer=tf.keras.optimizers.Adam(),\n",
        "              metrics=['accuracy'])"
      ],
      "execution_count": null,
      "outputs": [
        {
          "output_type": "stream",
          "text": [
            "Model: \"simple_dnn\"\n",
            "_________________________________________________________________\n",
            "Layer (type)                 Output Shape              Param #   \n",
            "=================================================================\n",
            "flatten_1 (Flatten)          (None, 3072)              0         \n",
            "_________________________________________________________________\n",
            "dense_2 (Dense)              (None, 256)               786688    \n",
            "_________________________________________________________________\n",
            "dropout_1 (Dropout)          (None, 256)               0         \n",
            "_________________________________________________________________\n",
            "dense_3 (Dense)              (None, 10)                2570      \n",
            "_________________________________________________________________\n",
            "softmax_1 (Softmax)          (None, 10)                0         \n",
            "=================================================================\n",
            "Total params: 789,258\n",
            "Trainable params: 789,258\n",
            "Non-trainable params: 0\n",
            "_________________________________________________________________\n"
          ],
          "name": "stdout"
        }
      ]
    },
    {
      "cell_type": "code",
      "metadata": {
        "id": "tfE1N5ojcb7-",
        "outputId": "e3352e71-083c-4920-a11f-9d1f58e8ce2f",
        "colab": {
          "base_uri": "https://localhost:8080/",
          "height": 308
        }
      },
      "source": [
        "# train model\n",
        "history = model.fit(x_train,\n",
        "          y_train,\n",
        "          batch_size=128,\n",
        "          epochs=8,\n",
        "          verbose=1,\n",
        "          validation_data=(x_val, y_val))"
      ],
      "execution_count": null,
      "outputs": [
        {
          "output_type": "stream",
          "text": [
            "Epoch 1/8\n",
            "274/274 [==============================] - 4s 16ms/step - loss: 2.1393 - accuracy: 0.2497 - val_loss: 2.0702 - val_accuracy: 0.3251\n",
            "Epoch 2/8\n",
            "274/274 [==============================] - 4s 15ms/step - loss: 2.0641 - accuracy: 0.3130 - val_loss: 2.0368 - val_accuracy: 0.3523\n",
            "Epoch 3/8\n",
            "274/274 [==============================] - 4s 15ms/step - loss: 2.0404 - accuracy: 0.3302 - val_loss: 2.0186 - val_accuracy: 0.3581\n",
            "Epoch 4/8\n",
            "274/274 [==============================] - 4s 15ms/step - loss: 2.0283 - accuracy: 0.3388 - val_loss: 2.0061 - val_accuracy: 0.3628\n",
            "Epoch 5/8\n",
            "274/274 [==============================] - 4s 15ms/step - loss: 2.0175 - accuracy: 0.3494 - val_loss: 2.0051 - val_accuracy: 0.3559\n",
            "Epoch 6/8\n",
            "274/274 [==============================] - 4s 15ms/step - loss: 2.0103 - accuracy: 0.3536 - val_loss: 1.9894 - val_accuracy: 0.3785\n",
            "Epoch 7/8\n",
            "274/274 [==============================] - 4s 15ms/step - loss: 2.0021 - accuracy: 0.3590 - val_loss: 1.9890 - val_accuracy: 0.3741\n",
            "Epoch 8/8\n",
            "274/274 [==============================] - 4s 15ms/step - loss: 1.9967 - accuracy: 0.3631 - val_loss: 1.9875 - val_accuracy: 0.3759\n"
          ],
          "name": "stdout"
        }
      ]
    },
    {
      "cell_type": "code",
      "metadata": {
        "id": "JfaMwhrqI3Zp",
        "outputId": "c1df9c15-ca1a-4cda-c241-2b7fdbafb9cc",
        "colab": {
          "base_uri": "https://localhost:8080/",
          "height": 295
        }
      },
      "source": [
        "plt.plot(history.history['accuracy'])\n",
        "plt.plot(history.history['val_accuracy'])\n",
        "plt.title('model accuracy')\n",
        "plt.ylabel('accuracy')\n",
        "plt.xlabel('epoch')\n",
        "plt.legend(['train', 'validation'])\n",
        "plt.show()"
      ],
      "execution_count": null,
      "outputs": [
        {
          "output_type": "display_data",
          "data": {
            "image/png": "[encoded data removed]",
            "text/plain": [
              "<Figure size 432x288 with 1 Axes>"
            ]
          },
          "metadata": {
            "tags": [],
            "needs_background": "light"
          }
        }
      ]
    },
    {
      "cell_type": "code",
      "metadata": {
        "id": "prBb0Ry7GkiZ",
        "outputId": "df813e29-6d24-4059-bc5e-5333f1513a5d",
        "colab": {
          "base_uri": "https://localhost:8080/",
          "height": 295
        }
      },
      "source": [
        "plt.plot(history.history['loss'])\n",
        "plt.plot(history.history['val_loss'])\n",
        "plt.title('model loss')\n",
        "plt.ylabel('loss')\n",
        "plt.xlabel('epoch')\n",
        "plt.legend(['train', 'validation'])\n",
        "plt.show()"
      ],
      "execution_count": null,
      "outputs": [
        {
          "output_type": "display_data",
          "data": {
            "image/png": "[encoded data removed]",
            "text/plain": [
              "<Figure size 432x288 with 1 Axes>"
            ]
          },
          "metadata": {
            "tags": [],
            "needs_background": "light"
          }
        }
      ]
    },
    {
      "cell_type": "code",
      "metadata": {
        "id": "lWAbi-N_f3Q1",
        "outputId": "b676ea6e-695a-4cd4-81d6-8f15c5564cd9",
        "colab": {
          "base_uri": "https://localhost:8080/",
          "height": 35
        }
      },
      "source": [
        "# evulate model\n",
        "results = model.evaluate(x_test, y_test)"
      ],
      "execution_count": null,
      "outputs": [
        {
          "output_type": "stream",
          "text": [
            "313/313 [==============================] - 1s 2ms/step - loss: 1.9883 - accuracy: 0.3696\n"
          ],
          "name": "stdout"
        }
      ]
    }
  ]
}